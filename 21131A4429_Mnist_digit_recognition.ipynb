{
 "cells": [
  {
   "cell_type": "markdown",
   "id": "af818351",
   "metadata": {},
   "source": [
    "# Import libraries"
   ]
  },
  {
   "cell_type": "code",
   "execution_count": 5,
   "id": "31715341",
   "metadata": {},
   "outputs": [],
   "source": [
    "import torch,torchvision\n",
    "import torch.nn as nn\n",
    "import torch.optim as optim\n",
    "\n",
    "import torchvision.datasets as data\n",
    "import torchvision.transforms as transforms\n",
    "\n",
    "from sklearn.metrics import accuracy_score, classification_report, confusion_matrix\n",
    "import numpy as np\n",
    "import matplotlib.pyplot as plt\n",
    "import seaborn as sns"
   ]
  },
  {
   "cell_type": "code",
   "execution_count": 6,
   "id": "61f883ae-7a13-4455-b4bf-2b6b7f163091",
   "metadata": {},
   "outputs": [
    {
     "name": "stdout",
     "output_type": "stream",
     "text": [
      "Using device: cuda:0\n"
     ]
    }
   ],
   "source": [
    "device = torch.device(\"cuda:0\" if torch.cuda.is_available() else \"cpu\")\n",
    "print(\"Using device:\", device)"
   ]
  },
  {
   "cell_type": "code",
   "execution_count": 7,
   "id": "6ac769b4-f900-497b-af81-93e577024f11",
   "metadata": {},
   "outputs": [],
   "source": [
    "class SimpleCNN(nn.Module):\n",
    "    def __init__(self):\n",
    "        super(SimpleCNN, self).__init__()\n",
    "        self.conv1 = nn.Conv2d(1, 32, kernel_size=3, stride=1, padding=1)\n",
    "        self.relu1 = nn.ReLU()\n",
    "        self.pool1 = nn.MaxPool2d(kernel_size=2, stride=2)\n",
    "\n",
    "        self.conv2 = nn.Conv2d(32, 64, kernel_size=3, stride=1, padding=1)\n",
    "        self.relu2 = nn.ReLU()\n",
    "        self.pool2 = nn.MaxPool2d(kernel_size=2, stride=2)\n",
    "\n",
    "        self.fc1 = nn.Linear(64 * 7 * 7, 128)\n",
    "        self.relu3 = nn.ReLU()\n",
    "        self.fc2 = nn.Linear(128, 10)  # 10 output classes for digits 0-9\n",
    "\n",
    "    def forward(self, x):\n",
    "        x = self.conv1(x)\n",
    "        x = self.relu1(x)\n",
    "        x = self.pool1(x)\n",
    "\n",
    "        x = self.conv2(x)\n",
    "        x = self.relu2(x)\n",
    "        x = self.pool2(x)\n",
    "\n",
    "        x = x.view(-1, 64 * 7 * 7)  # Reshape for fully connected layer\n",
    "        x = self.fc1(x)\n",
    "        x = self.relu3(x)\n",
    "        x = self.fc2(x)\n",
    "\n",
    "        return x"
   ]
  },
  {
   "cell_type": "markdown",
   "id": "5ea7e2fa",
   "metadata": {},
   "source": [
    "# Dataset loading and downloading"
   ]
  },
  {
   "cell_type": "code",
   "execution_count": 8,
   "id": "e9d4e732",
   "metadata": {},
   "outputs": [],
   "source": [
    "transform = transforms.Compose([transforms.ToTensor(),transforms.Normalize((0.5,), (0.5,))])\n",
    "train_data = data.MNIST('mnist_data',train=True,download=True,transform=transform)\n",
    "test_data = data.MNIST('mnist_data',train=False,download=True,transform=transform)"
   ]
  },
  {
   "cell_type": "markdown",
   "id": "e60ca2d7",
   "metadata": {},
   "source": [
    "# Data samples"
   ]
  },
  {
   "cell_type": "code",
   "execution_count": 9,
   "id": "0f0c3e43",
   "metadata": {},
   "outputs": [
    {
     "name": "stdout",
     "output_type": "stream",
     "text": [
      "The shape of the image:  torch.Size([1, 28, 28])\n",
      "The number of training images:  60000\n",
      "The number of training images:  10000\n",
      "\n",
      "\n"
     ]
    },
    {
     "data": {
      "image/png": "[encoded data removed]",
      "text/plain": [
       "<Figure size 640x480 with 7 Axes>"
      ]
     },
     "metadata": {},
     "output_type": "display_data"
    }
   ],
   "source": [
    "num_samples = 7\n",
    "\n",
    "print(\"The shape of the image: \",train_data[0][0].shape)\n",
    "print(\"The number of training images: \",len(train_data))\n",
    "print(\"The number of training images: \",len(test_data))\n",
    "print(\"\\n\")\n",
    "for i in range(num_samples):\n",
    "    image, label = train_data[i]\n",
    "    image = image.numpy().squeeze()\n",
    "    plt.subplot(1, num_samples, i + 1)\n",
    "    plt.imshow(image, cmap='gray')\n",
    "    plt.title(f\"Label: {label}\")\n",
    "    plt.axis('off')\n",
    "\n",
    "plt.show()"
   ]
  },
  {
   "cell_type": "markdown",
   "id": "d5ec1c54-a5c9-4369-a747-1753739bf705",
   "metadata": {},
   "source": [
    "# Data loader with batch_size 64"
   ]
  },
  {
   "cell_type": "code",
   "execution_count": 10,
   "id": "0e1ddd84",
   "metadata": {},
   "outputs": [],
   "source": [
    "train_dataloader = torch.utils.data.DataLoader(train_data,batch_size=64)\n",
    "test_dataloader = torch.utils.data.DataLoader(test_data,batch_size=64)"
   ]
  },
  {
   "cell_type": "code",
   "execution_count": 11,
   "id": "83f68041-3501-4154-a3fe-0df2aac43ac7",
   "metadata": {},
   "outputs": [],
   "source": [
    "mnist_model = SimpleCNN().to(device)"
   ]
  },
  {
   "cell_type": "code",
   "execution_count": 12,
   "id": "4bd359b6-a19c-4d94-9556-509bbadf51b0",
   "metadata": {},
   "outputs": [],
   "source": [
    "loss_fn = nn.CrossEntropyLoss()\n",
    "optimizer = optim.Adam(mnist_model.parameters(), lr=0.001)"
   ]
  },
  {
   "cell_type": "code",
   "execution_count": 13,
   "id": "f1384a43-5a6b-49dd-ad1d-4e0f3c256058",
   "metadata": {},
   "outputs": [
    {
     "name": "stdout",
     "output_type": "stream",
     "text": [
      "Epoch 1, Batch 1, Loss: 0.0231, Accuracy: 4.69%\n",
      "Epoch 1, Batch 501, Loss: 1.2153, Accuracy: 93.00%\n",
      "Epoch 2, Batch 1, Loss: 0.0005, Accuracy: 98.44%\n",
      "Epoch 2, Batch 501, Loss: 0.2529, Accuracy: 98.47%\n",
      "Epoch 3, Batch 1, Loss: 0.0001, Accuracy: 100.00%\n",
      "Epoch 3, Batch 501, Loss: 0.1570, Accuracy: 99.08%\n",
      "Epoch 4, Batch 1, Loss: 0.0001, Accuracy: 100.00%\n",
      "Epoch 4, Batch 501, Loss: 0.1055, Accuracy: 99.39%\n",
      "Epoch 5, Batch 1, Loss: 0.0003, Accuracy: 98.44%\n",
      "Epoch 5, Batch 501, Loss: 0.0759, Accuracy: 99.54%\n"
     ]
    }
   ],
   "source": [
    "num_epochs = 5\n",
    "\n",
    "for epoch in range(num_epochs):\n",
    "    running_loss = 0.0\n",
    "    correct_predictions = 0\n",
    "    total_samples = 0\n",
    "\n",
    "    for batch_idx, data in enumerate(train_dataloader):\n",
    "        inputs, labels = data\n",
    "        inputs, labels = inputs.to(device), labels.to(device)\n",
    "\n",
    "        optimizer.zero_grad()\n",
    "        outputs = mnist_model(inputs)\n",
    "        loss = loss_fn(outputs, labels)\n",
    "        loss.backward()\n",
    "        optimizer.step()\n",
    "\n",
    "        running_loss += loss.item()\n",
    "\n",
    "        _, predicted = torch.max(outputs.data, 1)\n",
    "        total_samples += labels.size(0)\n",
    "        correct_predictions += (predicted == labels).sum().item()\n",
    "\n",
    "        # Print loss and accuracy every N batches\n",
    "        if batch_idx % 500 == 0:  # Adjust the interval as needed\n",
    "            average_loss = running_loss / 100  # Average loss per batch\n",
    "            accuracy = correct_predictions / total_samples\n",
    "            print(f'Epoch {epoch + 1}, Batch {batch_idx + 1}, Loss: {average_loss:.4f}, Accuracy: {accuracy * 100:.2f}%')"
   ]
  },
  {
   "cell_type": "code",
   "execution_count": 14,
   "id": "c508f589-13af-4f0f-b596-dcb6387b8ce8",
   "metadata": {},
   "outputs": [],
   "source": [
    "mnist_model.eval()\n",
    "all_labels = []\n",
    "all_predictions = []\n"
   ]
  },
  {
   "cell_type": "code",
   "execution_count": 15,
   "id": "b8aa47b3-e174-4b7d-91a8-1614968b51c2",
   "metadata": {},
   "outputs": [],
   "source": [
    "with torch.no_grad():\n",
    "    for data in test_dataloader:\n",
    "        inputs, labels = data\n",
    "        inputs, labels = inputs.to(device), labels.to(device)\n",
    "        outputs = mnist_model(inputs)\n",
    "        _, predicted = torch.max(outputs, 1)\n",
    "        all_labels = np.append(all_labels, labels.cpu().numpy())\n",
    "        all_predictions = np.append(all_predictions, predicted.cpu().numpy())\n",
    "\n",
    "# Handle the case where there might be empty slices\n",
    "all_labels = np.array(all_labels)\n",
    "all_predictions = np.array(all_predictions)"
   ]
  },
  {
   "cell_type": "code",
   "execution_count": 16,
   "id": "ab6bcb57-26f8-48b0-b4cf-6d0a37eee19c",
   "metadata": {},
   "outputs": [
    {
     "name": "stdout",
     "output_type": "stream",
     "text": [
      "Accuracy: 98.92%\n",
      "Classification Report:\n",
      "              precision    recall  f1-score   support\n",
      "\n",
      "           0       0.98      1.00      0.99       980\n",
      "           1       0.99      1.00      0.99      1135\n",
      "           2       0.97      0.99      0.98      1032\n",
      "           3       1.00      0.98      0.99      1010\n",
      "           4       0.99      1.00      0.99       982\n",
      "           5       0.98      0.99      0.99       892\n",
      "           6       1.00      0.98      0.99       958\n",
      "           7       0.99      0.98      0.98      1028\n",
      "           8       0.99      0.99      0.99       974\n",
      "           9       0.99      0.98      0.99      1009\n",
      "\n",
      "    accuracy                           0.99     10000\n",
      "   macro avg       0.99      0.99      0.99     10000\n",
      "weighted avg       0.99      0.99      0.99     10000\n",
      "\n"
     ]
    },
    {
     "data": {
      "image/png": "[encoded data removed]",
      "text/plain": [
       "<Figure size 800x600 with 2 Axes>"
      ]
     },
     "metadata": {},
     "output_type": "display_data"
    }
   ],
   "source": [
    "accuracy = accuracy_score(all_labels, all_predictions)\n",
    "print(f\"Accuracy: {accuracy * 100:.2f}%\")\n",
    "\n",
    "# Display classification report\n",
    "print(\"Classification Report:\")\n",
    "print(classification_report(all_labels, all_predictions, target_names=[str(i) for i in range(10)]))\n",
    "\n",
    "# Plot confusion matrix\n",
    "cm = confusion_matrix(all_labels, all_predictions)\n",
    "plt.figure(figsize=(8, 6))\n",
    "sns.heatmap(cm, annot=True, fmt='d', cmap='Blues', xticklabels=[str(i) for i in range(10)], yticklabels=[str(i) for i in range(10)])\n",
    "plt.xlabel('Predicted')\n",
    "plt.ylabel('True')\n",
    "plt.title('Confusion Matrix')\n",
    "plt.show()"
   ]
  },
  {
   "cell_type": "code",
   "execution_count": 17,
   "id": "ed425c1d-f10d-4280-b256-78ae5889c163",
   "metadata": {},
   "outputs": [
    {
     "name": "stdout",
     "output_type": "stream",
     "text": [
      "Prediction: 1\n"
     ]
    },
    {
     "data": {
      "image/png": "[encoded data removed]",
      "text/plain": [
       "<Figure size 640x480 with 1 Axes>"
      ]
     },
     "metadata": {},
     "output_type": "display_data"
    }
   ],
   "source": [
    "mnist_model.eval()\n",
    "data, label = test_data[2]\n",
    "data = data.unsqueeze(0).to(device)  # Assign the transformed data back to the variable\n",
    "\n",
    "output = mnist_model(data)\n",
    "prediction = output.argmax(dim=1, keepdim=True).item()\n",
    "print(f'Prediction: {prediction}')\n",
    "image = data.squeeze(0).squeeze(0).cpu().numpy()\n",
    "plt.imshow(image, cmap='gray')\n",
    "plt.show()\n"
   ]
  },
  {
   "cell_type": "code",
   "execution_count": 38,
   "id": "81734437-b26d-4b79-8fdf-4507be1b6bae",
   "metadata": {},
   "outputs": [
    {
     "data": {
      "image/png": "[encoded data removed]",
      "text/plain": [
       "<Figure size 640x480 with 1 Axes>"
      ]
     },
     "metadata": {},
     "output_type": "display_data"
    }
   ],
   "source": [
    "import torch\n",
    "from PIL import Image\n",
    "import numpy as np\n",
    "import matplotlib.pyplot as plt\n",
    "\n",
    "# Load and preprocess the image\n",
    "new_image_path = r\"D:\\programs\\DeepLearning\\mnist\\digitRecognition\\num7.png\"\n",
    "new_img = Image.open(new_image_path).convert('L')  \n",
    "new_img = new_img.resize((28, 28))  \n",
    "new_img_np = np.array(new_img) / 255.0\n",
    "flattened_image = new_img_np.flatten()\n",
    "\n",
    "# Reshape for model input\n",
    "model_input = flattened_image.reshape(1, 1, 28, 28).astype(np.float32)  # Assuming your model expects a batch dimension and 1 channel\n",
    "\n",
    "# Convert to PyTorch tensor\n",
    "model_input = torch.tensor(model_input)\n",
    "\n",
    "# Move the model and input tensor to the same device (CPU or GPU)\n",
    "device = torch.device(\"cuda:0\" if torch.cuda.is_available() else \"cpu\")\n",
    "mnist_model = mnist_model.to(device)\n",
    "model_input = model_input.to(device)\n",
    "\n",
    "# Make predictions\n",
    "with torch.no_grad():\n",
    "    mnist_model.eval()\n",
    "    outputs = mnist_model(model_input)\n",
    "\n",
    "_, predicted = torch.max(outputs.data, 1)\n",
    "predicted_digit = predicted.item()\n",
    "\n",
    "# Display the image and the predicted digit\n",
    "plt.imshow(new_img_np, cmap='gray')\n",
    "plt.title(f'Predicted Digit: {predicted_digit}')\n",
    "plt.show()\n"
   ]
  }
 ],
 "metadata": {
  "kernelspec": {
   "display_name": "Python 3 (ipykernel)",
   "language": "python",
   "name": "python3"
  },
  "language_info": {
   "codemirror_mode": {
    "name": "ipython",
    "version": 3
   },
   "file_extension": ".py",
   "mimetype": "text/x-python",
   "name": "python",
   "nbconvert_exporter": "python",
   "pygments_lexer": "ipython3",
   "version": "3.11.5"
  }
 },
 "nbformat": 4,
 "nbformat_minor": 5
}
